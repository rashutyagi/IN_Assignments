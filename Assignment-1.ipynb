{
 "cells": [
  {
   "cell_type": "markdown",
   "metadata": {},
   "source": [
    "# Write a Python program to print \"Hello Python\""
   ]
  },
  {
   "cell_type": "code",
   "execution_count": 1,
   "metadata": {},
   "outputs": [
    {
     "name": "stdout",
     "output_type": "stream",
     "text": [
      "Hello Python\n"
     ]
    }
   ],
   "source": [
    "print(\"Hello Python\")"
   ]
  },
  {
   "cell_type": "markdown",
   "metadata": {},
   "source": [
    "# Write a Python program to do arithmetical operations addition and division"
   ]
  },
  {
   "cell_type": "code",
   "execution_count": 3,
   "metadata": {},
   "outputs": [
    {
     "name": "stdout",
     "output_type": "stream",
     "text": [
      "Enter x45\n",
      "Enter y5\n",
      "Addition gives  50\n"
     ]
    }
   ],
   "source": [
    "#addition\n",
    "def addition(x, y):\n",
    "    return x+y\n",
    "x = int(input(\"Enter x \"))\n",
    "y = int(input(\"Enter y \"))\n",
    "my_sum = addition(x, y)\n",
    "print(\"Addition gives \", my_sum)"
   ]
  },
  {
   "cell_type": "code",
   "execution_count": 4,
   "metadata": {},
   "outputs": [
    {
     "name": "stdout",
     "output_type": "stream",
     "text": [
      "Enter x 45\n",
      "Enter y 9\n",
      "Division gives  5.0\n"
     ]
    }
   ],
   "source": [
    "#division\n",
    "def division(x, y):\n",
    "    return x/y\n",
    "x = float(input(\"Enter x \"))\n",
    "y = float(input(\"Enter y \"))\n",
    "my_division = division(x, y)\n",
    "print(\"Division gives \", my_division)"
   ]
  },
  {
   "cell_type": "markdown",
   "metadata": {},
   "source": [
    "# Write a Python program to find the area of a triangle"
   ]
  },
  {
   "cell_type": "code",
   "execution_count": 5,
   "metadata": {},
   "outputs": [
    {
     "name": "stdout",
     "output_type": "stream",
     "text": [
      "Enter first side: 10\n",
      "Enter second side: 13\n",
      "Enter third side: 12\n",
      "Area of triangle is 56.99506557588999\n"
     ]
    }
   ],
   "source": [
    "def traingle_area(side_1, side_2, side_3):\n",
    "    #semi perimeter\n",
    "    s = (side_1 + side_2 + side_3) / 2.0\n",
    "    \n",
    "    #calculating area \n",
    "    area = (s*(s-side_1)*(s-side_2)*(s-side_3)) ** 0.5\n",
    "    \n",
    "    return area\n",
    "\n",
    "side_1= float(input('Enter first side: '))\n",
    "side_2 = float(input('Enter second side: '))\n",
    "side_3 = float(input('Enter third side: '))\n",
    "\n",
    "my_traingle_area = traingle_area(side_1, side_2, side_3)\n",
    "\n",
    "print(f\"Area of triangle is {my_traingle_area}\")"
   ]
  },
  {
   "cell_type": "markdown",
   "metadata": {},
   "source": [
    "# Write a Python program to swap two variables"
   ]
  },
  {
   "cell_type": "code",
   "execution_count": 8,
   "metadata": {},
   "outputs": [
    {
     "name": "stdout",
     "output_type": "stream",
     "text": [
      "Enter First Number 10\n",
      "Enter Second Number 5\n",
      "The First number now is 5 and Second number now is 10\n"
     ]
    }
   ],
   "source": [
    "a = int(input(\"Enter First Number \"))\n",
    "b = int(input(\"Enter Second Number \"))\n",
    "c=a\n",
    "a=b\n",
    "b=c\n",
    "\n",
    "print(f\"The First number now is {a} and Second number now is {b}\")"
   ]
  },
  {
   "cell_type": "markdown",
   "metadata": {},
   "source": [
    "# Write a Python program to generate a random number"
   ]
  },
  {
   "cell_type": "code",
   "execution_count": 10,
   "metadata": {},
   "outputs": [
    {
     "name": "stdout",
     "output_type": "stream",
     "text": [
      "Our random number is 0.6394267984578837\n"
     ]
    }
   ],
   "source": [
    "import random\n",
    "random.seed(42)  # seed value makes sure that everytime for this seed \n",
    "                 # value you will get same random value.\n",
    "\n",
    "print(f\"Our random number is {random.random()}\")"
   ]
  },
  {
   "cell_type": "code",
   "execution_count": null,
   "metadata": {},
   "outputs": [],
   "source": []
  }
 ],
 "metadata": {
  "kernelspec": {
   "display_name": "Python 3",
   "language": "python",
   "name": "python3"
  },
  "language_info": {
   "codemirror_mode": {
    "name": "ipython",
    "version": 3
   },
   "file_extension": ".py",
   "mimetype": "text/x-python",
   "name": "python",
   "nbconvert_exporter": "python",
   "pygments_lexer": "ipython3",
   "version": "3.7.3"
  }
 },
 "nbformat": 4,
 "nbformat_minor": 2
}
