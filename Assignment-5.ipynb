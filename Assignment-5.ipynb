{
 "cells": [
  {
   "cell_type": "markdown",
   "metadata": {},
   "source": [
    "# Write a Python Program to Find LCM?"
   ]
  },
  {
   "cell_type": "code",
   "execution_count": 7,
   "metadata": {},
   "outputs": [
    {
     "name": "stdout",
     "output_type": "stream",
     "text": [
      "Enter first number 25\n",
      "Enter second number 50\n",
      "Lcm of 25 and 50 is 50.0\n"
     ]
    }
   ],
   "source": [
    "def give_hcf(num1, num2):\n",
    "    if num1 <= num2:\n",
    "        for i in range(num1,0,-1):\n",
    "            if (num1%i == 0 and num2%i== 0):\n",
    "                return i\n",
    "    else:\n",
    "        for i in range(num2,0,-1):\n",
    "            if (num1%i ==0 and num2%i== 0):\n",
    "                return i   \n",
    "    \n",
    "num1 = int(input(\"Enter first number \"))\n",
    "num2 = int(input(\"Enter second number \"))\n",
    "hcf = give_hcf(num1, num2)\n",
    "\n",
    "# we know that hcf*lcm = product of the numbers\n",
    "\n",
    "lcm = (num1*num2)/hcf\n",
    "\n",
    "print(f\"Lcm of {num1} and {num2} is {lcm}\")"
   ]
  },
  {
   "cell_type": "markdown",
   "metadata": {},
   "source": [
    "# Write a Python Program to Find HCF?"
   ]
  },
  {
   "cell_type": "code",
   "execution_count": 8,
   "metadata": {},
   "outputs": [
    {
     "name": "stdout",
     "output_type": "stream",
     "text": [
      "Enter first number 12\n",
      "Enter second number 36\n",
      "HCF of 12 and 36 is 12\n"
     ]
    }
   ],
   "source": [
    "def give_hcf(num1, num2):\n",
    "    if num1 <= num2:\n",
    "        for i in range(num1,0,-1):\n",
    "            if (num1%i == 0 and num2%i== 0):\n",
    "                return i\n",
    "    else:\n",
    "        for i in range(num2,0,-1):\n",
    "            if (num1%i ==0 and num2%i== 0):\n",
    "                return i   \n",
    "    \n",
    "num1 = int(input(\"Enter first number \"))\n",
    "num2 = int(input(\"Enter second number \"))\n",
    "hcf = give_hcf(num1, num2)\n",
    "\n",
    "print(f\"HCF of {num1} and {num2} is {hcf}\")"
   ]
  },
  {
   "cell_type": "markdown",
   "metadata": {},
   "source": [
    "# Write a Python Program to Convert Decimal to Binary, Octal and Hexadecimal?"
   ]
  },
  {
   "cell_type": "code",
   "execution_count": 12,
   "metadata": {},
   "outputs": [
    {
     "name": "stdout",
     "output_type": "stream",
     "text": [
      "Enter the number in decimal123\n",
      "The binary value of 123 decimal is 0b1111011\n",
      "The octal value of 123 decimal is 0o173\n",
      "The hexadecimal value of 123 decimal is 0x7b\n"
     ]
    }
   ],
   "source": [
    "num = int(input(\"Enter the number in decimal\"))\n",
    "\n",
    "print(f\"The binary value of {num} decimal is {bin(num)}\")\n",
    "print(f\"The octal value of {num} decimal is {oct(num)}\")\n",
    "print(f\"The hexadecimal value of {num} decimal is {hex(num)}\")"
   ]
  },
  {
   "cell_type": "markdown",
   "metadata": {},
   "source": [
    "# Write a Python Program To Find ASCII value of a character?"
   ]
  },
  {
   "cell_type": "code",
   "execution_count": 14,
   "metadata": {},
   "outputs": [
    {
     "name": "stdout",
     "output_type": "stream",
     "text": [
      "Enter the characterb\n",
      "ASCII value of character b is 98\n"
     ]
    }
   ],
   "source": [
    "c = input(\"Enter the character\")\n",
    "print(f\"ASCII value of character {c} is {ord(c)}\")"
   ]
  },
  {
   "cell_type": "markdown",
   "metadata": {},
   "source": [
    "# Write a Python Program to Make a Simple Calculator with 4 basic mathematical operations?"
   ]
  },
  {
   "cell_type": "code",
   "execution_count": 21,
   "metadata": {},
   "outputs": [
    {
     "name": "stdout",
     "output_type": "stream",
     "text": [
      "Enter First Number 10\n",
      "Enter Second Number 0\n",
      "The sum of 10 and 0 is 10\n",
      "The difference of 10 and 0 is 10\n",
      "The product of 10 and 0 is 0\n",
      "Do not divide by 0 Please.\n",
      "The division of 10 and 0 is Possible only if you Change your Divisor\n"
     ]
    }
   ],
   "source": [
    "def get_sum(num1,num2):\n",
    "    return num1+num2\n",
    "\n",
    "def get_difference(num1,num2):\n",
    "    return num1-num2\n",
    "\n",
    "def get_product(num1,num2):\n",
    "    return num1*num2\n",
    "\n",
    "def get_quotient(num1,num2):\n",
    "    try:\n",
    "        return num1/num2\n",
    "    except:\n",
    "        print(\"Do not divide by 0 Please.\")\n",
    "        return \"Possible only if you Change your Divisor\"\n",
    "\n",
    "num1 = int(input(\"Enter First Number \"))\n",
    "num2 = int(input(\"Enter Second Number \"))\n",
    "print(f\"The sum of {num1} and {num2} is {get_sum(num1,num2)}\")\n",
    "print(f\"The difference of {num1} and {num2} is {get_difference(num1,num2)}\")\n",
    "print(f\"The product of {num1} and {num2} is {get_product(num1,num2)}\")\n",
    "print(f\"The division of {num1} and {num2} is {get_quotient(num1,num2)}\")"
   ]
  },
  {
   "cell_type": "code",
   "execution_count": null,
   "metadata": {},
   "outputs": [],
   "source": []
  }
 ],
 "metadata": {
  "kernelspec": {
   "display_name": "Python 3",
   "language": "python",
   "name": "python3"
  },
  "language_info": {
   "codemirror_mode": {
    "name": "ipython",
    "version": 3
   },
   "file_extension": ".py",
   "mimetype": "text/x-python",
   "name": "python",
   "nbconvert_exporter": "python",
   "pygments_lexer": "ipython3",
   "version": "3.7.3"
  }
 },
 "nbformat": 4,
 "nbformat_minor": 2
}
