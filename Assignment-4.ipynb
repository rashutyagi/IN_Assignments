{
 "cells": [
  {
   "cell_type": "markdown",
   "metadata": {},
   "source": [
    "# Write a Python Program to Find the Factorial of a Number?"
   ]
  },
  {
   "cell_type": "code",
   "execution_count": 4,
   "metadata": {},
   "outputs": [
    {
     "name": "stdout",
     "output_type": "stream",
     "text": [
      "Enter the number whose factorial you want6\n",
      "The factorial of 6 is 720\n"
     ]
    }
   ],
   "source": [
    "def get_factorial(num):\n",
    "    if num == 0:\n",
    "        return 1\n",
    "    else:\n",
    "        return num*get_factorial(num-1)\n",
    "    \n",
    "num = int(input(\"Enter the number whose factorial you want\"))\n",
    "print(f\"The factorial of {num} is {get_factorial(num)}\")"
   ]
  },
  {
   "cell_type": "markdown",
   "metadata": {},
   "source": [
    "# Write a Python Program to Display the multiplication Table?"
   ]
  },
  {
   "cell_type": "code",
   "execution_count": 5,
   "metadata": {},
   "outputs": [
    {
     "name": "stdout",
     "output_type": "stream",
     "text": [
      "Enter the number whose table you want15\n",
      "15 * 1 = 15\n",
      "15 * 2 = 30\n",
      "15 * 3 = 45\n",
      "15 * 4 = 60\n",
      "15 * 5 = 75\n",
      "15 * 6 = 90\n",
      "15 * 7 = 105\n",
      "15 * 8 = 120\n",
      "15 * 9 = 135\n",
      "15 * 10 = 150\n"
     ]
    }
   ],
   "source": [
    "def print_table(num):\n",
    "    for i in range(1,11):\n",
    "        print(f\"{num} * {i} = {num*i}\")\n",
    "\n",
    "num = int(input(\"Enter the number whose table you want\"))\n",
    "print_table(num)"
   ]
  },
  {
   "cell_type": "markdown",
   "metadata": {},
   "source": [
    "# Write a Python Program to Print the Fibonacci sequence?"
   ]
  },
  {
   "cell_type": "code",
   "execution_count": 8,
   "metadata": {},
   "outputs": [
    {
     "name": "stdout",
     "output_type": "stream",
     "text": [
      "Enter the first term0\n",
      "Enter the second term1\n",
      "0\n",
      "1\n",
      "1\n",
      "2\n",
      "3\n",
      "5\n",
      "8\n",
      "13\n",
      "21\n",
      "34\n"
     ]
    }
   ],
   "source": [
    "def give_fibonacci(first_term,second_term,number_of_terms):\n",
    "    for i in range(number_of_terms-2):\n",
    "        c = first_term + second_term\n",
    "        first_term = second_term\n",
    "        second_term = c\n",
    "        print(c)\n",
    "\n",
    "first_term = int(input(\"Enter the first term\"))\n",
    "second_term = int(input(\"Enter the second term\"))\n",
    "print(first_term)\n",
    "print(second_term)\n",
    "give_fibonacci(0,1,10)"
   ]
  },
  {
   "cell_type": "markdown",
   "metadata": {},
   "source": [
    "# Write a Python Program to Check Armstrong Number?"
   ]
  },
  {
   "cell_type": "code",
   "execution_count": 16,
   "metadata": {},
   "outputs": [
    {
     "name": "stdout",
     "output_type": "stream",
     "text": [
      "Enter the number you want to check153\n",
      "153\n",
      "Yes 153 is an  ArmStrong Number\n"
     ]
    }
   ],
   "source": [
    "def get_number_of_digits(number):\n",
    "    c = 0\n",
    "    while(number != 0):\n",
    "        c+=1\n",
    "        number//=10\n",
    "    return c\n",
    "\n",
    "def check_armstrong(number):\n",
    "    sum = 0\n",
    "    n = get_number_of_digits(number)\n",
    "    while(number != 0):\n",
    "        b = number % 10\n",
    "        sum+=b**n\n",
    "        number//=10\n",
    "    return sum\n",
    "\n",
    "number = int(input(\"Enter the number you want to check\"))\n",
    "if number == check_armstrong(number):\n",
    "    print(f\"Yes {number } is an  ArmStrong Number\")\n",
    "else:\n",
    "    print(f\"No {number } is not an ArmStrong Number\")"
   ]
  },
  {
   "cell_type": "markdown",
   "metadata": {},
   "source": [
    "# Write a Python Program to Find Armstrong Number in an Interval?"
   ]
  },
  {
   "cell_type": "code",
   "execution_count": 18,
   "metadata": {},
   "outputs": [
    {
     "name": "stdout",
     "output_type": "stream",
     "text": [
      "Enter the start of your interval5\n",
      "Enter the end of your interval5000\n",
      "Armstrong numbers in the given interval are as follows\n",
      "5\n",
      "6\n",
      "7\n",
      "8\n",
      "9\n",
      "153\n",
      "370\n",
      "371\n",
      "407\n",
      "1634\n"
     ]
    }
   ],
   "source": [
    "def get_number_of_digits(number):\n",
    "    c = 0\n",
    "    while(number != 0):\n",
    "        c+=1\n",
    "        number//=10\n",
    "    return c\n",
    "\n",
    "def check_armstrong(number):\n",
    "    sum = 0\n",
    "    n = get_number_of_digits(number)\n",
    "    while(number != 0):\n",
    "        b = number % 10\n",
    "        sum+=b**n\n",
    "        number//=10\n",
    "    return sum\n",
    "\n",
    "a = int(input(\"Enter the start of your interval\"))\n",
    "b = int(input(\"Enter the end of your interval\"))\n",
    "print(\"Armstrong numbers in the given interval are as follows\")\n",
    "for i in range(a,b+1):\n",
    "    if(i == check_armstrong(i)):\n",
    "        print(i)\n",
    "        "
   ]
  },
  {
   "cell_type": "markdown",
   "metadata": {},
   "source": [
    "# Write a Python Program to Find the Sum of Natural Numbers?"
   ]
  },
  {
   "cell_type": "code",
   "execution_count": null,
   "metadata": {},
   "outputs": [],
   "source": [
    "def get_sum(num):\n",
    "    return sum([x for x in range(1,num+1)])\n",
    "\n",
    "num = int(input(\"Enter upto what natural number you want sum\"))\n",
    "sum = get_sum(num)\n",
    "print(f\"The sum of natural nb)\n",
    "    "
   ]
  },
  {
   "cell_type": "code",
   "execution_count": 19,
   "metadata": {},
   "outputs": [
    {
     "data": {
      "text/plain": [
       "10"
      ]
     },
     "execution_count": 19,
     "metadata": {},
     "output_type": "execute_result"
    }
   ],
   "source": [
    "a = [1,2,3,4]\n",
    "sum(a)"
   ]
  },
  {
   "cell_type": "code",
   "execution_count": null,
   "metadata": {},
   "outputs": [],
   "source": []
  }
 ],
 "metadata": {
  "kernelspec": {
   "display_name": "Python 3",
   "language": "python",
   "name": "python3"
  },
  "language_info": {
   "codemirror_mode": {
    "name": "ipython",
    "version": 3
   },
   "file_extension": ".py",
   "mimetype": "text/x-python",
   "name": "python",
   "nbconvert_exporter": "python",
   "pygments_lexer": "ipython3",
   "version": "3.7.3"
  }
 },
 "nbformat": 4,
 "nbformat_minor": 2
}
