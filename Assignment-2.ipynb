{
 "cells": [
  {
   "cell_type": "markdown",
   "metadata": {},
   "source": [
    "# Write a Python program to convert kilometers to miles"
   ]
  },
  {
   "cell_type": "code",
   "execution_count": 4,
   "metadata": {},
   "outputs": [
    {
     "name": "stdout",
     "output_type": "stream",
     "text": [
      "Enter the number of kilometers 124\n",
      "There are 77.050004 miles in 124.0 kilometers \n"
     ]
    }
   ],
   "source": [
    "def km_to_miles(km):\n",
    "    return km*0.621371\n",
    "km = float(input(\"Enter the number of kilometers \"))\n",
    "miles = km_to_miles(km)\n",
    "print(f\"There are {miles} miles in {km} kilometers \")"
   ]
  },
  {
   "cell_type": "markdown",
   "metadata": {},
   "source": [
    "# Write a Python program to convert Celsius to Fahrenheit"
   ]
  },
  {
   "cell_type": "code",
   "execution_count": 5,
   "metadata": {},
   "outputs": [
    {
     "name": "stdout",
     "output_type": "stream",
     "text": [
      "Enter the temperatire in celsius 98\n",
      "There are 208.4 fahrenheit in 98.0 celsius \n"
     ]
    }
   ],
   "source": [
    "def celsius_to_fahrenheit(celsius):\n",
    "    return celsius*1.80 + 32.0\n",
    "celsius = float(input(\"Enter the temperatire in celsius \"))\n",
    "fahrenheit = celsius_to_fahrenheit(celsius)\n",
    "print(f\"There are {fahrenheit} fahrenheit in {celsius} celsius \")"
   ]
  },
  {
   "cell_type": "markdown",
   "metadata": {},
   "source": [
    "# Write a Python program to display calendar?"
   ]
  },
  {
   "cell_type": "code",
   "execution_count": 12,
   "metadata": {},
   "outputs": [
    {
     "name": "stdout",
     "output_type": "stream",
     "text": [
      "Enter the year for which you want the calender2021\n",
      "Calendar for year 2021 is                                   2021\n",
      "\n",
      "      January                   February                   March\n",
      "Mo Tu We Th Fr Sa Su      Mo Tu We Th Fr Sa Su      Mo Tu We Th Fr Sa Su\n",
      "             1  2  3       1  2  3  4  5  6  7       1  2  3  4  5  6  7\n",
      " 4  5  6  7  8  9 10       8  9 10 11 12 13 14       8  9 10 11 12 13 14\n",
      "11 12 13 14 15 16 17      15 16 17 18 19 20 21      15 16 17 18 19 20 21\n",
      "18 19 20 21 22 23 24      22 23 24 25 26 27 28      22 23 24 25 26 27 28\n",
      "25 26 27 28 29 30 31                                29 30 31\n",
      "\n",
      "       April                      May                       June\n",
      "Mo Tu We Th Fr Sa Su      Mo Tu We Th Fr Sa Su      Mo Tu We Th Fr Sa Su\n",
      "          1  2  3  4                      1  2          1  2  3  4  5  6\n",
      " 5  6  7  8  9 10 11       3  4  5  6  7  8  9       7  8  9 10 11 12 13\n",
      "12 13 14 15 16 17 18      10 11 12 13 14 15 16      14 15 16 17 18 19 20\n",
      "19 20 21 22 23 24 25      17 18 19 20 21 22 23      21 22 23 24 25 26 27\n",
      "26 27 28 29 30            24 25 26 27 28 29 30      28 29 30\n",
      "                          31\n",
      "\n",
      "        July                     August                  September\n",
      "Mo Tu We Th Fr Sa Su      Mo Tu We Th Fr Sa Su      Mo Tu We Th Fr Sa Su\n",
      "          1  2  3  4                         1             1  2  3  4  5\n",
      " 5  6  7  8  9 10 11       2  3  4  5  6  7  8       6  7  8  9 10 11 12\n",
      "12 13 14 15 16 17 18       9 10 11 12 13 14 15      13 14 15 16 17 18 19\n",
      "19 20 21 22 23 24 25      16 17 18 19 20 21 22      20 21 22 23 24 25 26\n",
      "26 27 28 29 30 31         23 24 25 26 27 28 29      27 28 29 30\n",
      "                          30 31\n",
      "\n",
      "      October                   November                  December\n",
      "Mo Tu We Th Fr Sa Su      Mo Tu We Th Fr Sa Su      Mo Tu We Th Fr Sa Su\n",
      "             1  2  3       1  2  3  4  5  6  7             1  2  3  4  5\n",
      " 4  5  6  7  8  9 10       8  9 10 11 12 13 14       6  7  8  9 10 11 12\n",
      "11 12 13 14 15 16 17      15 16 17 18 19 20 21      13 14 15 16 17 18 19\n",
      "18 19 20 21 22 23 24      22 23 24 25 26 27 28      20 21 22 23 24 25 26\n",
      "25 26 27 28 29 30 31      29 30                     27 28 29 30 31\n",
      "\n"
     ]
    }
   ],
   "source": [
    "import calendar\n",
    "\n",
    "year = int(input(\"Enter the year for which you want the calender\"))\n",
    "\n",
    "print(f\"Calendar for year {year} is {calendar.calendar(year)}\")"
   ]
  },
  {
   "cell_type": "markdown",
   "metadata": {},
   "source": [
    "# Write a Python program to solve quadratic equation"
   ]
  },
  {
   "cell_type": "code",
   "execution_count": 13,
   "metadata": {},
   "outputs": [],
   "source": [
    "# source --> https://twitter.com/python_tip/status/1300793389802233856?s=20\n",
    "import handcalcs.render\n",
    "from math import sqrt"
   ]
  },
  {
   "cell_type": "markdown",
   "metadata": {},
   "source": [
    "#### This is the formula for quadratic equation solution"
   ]
  },
  {
   "cell_type": "code",
   "execution_count": 17,
   "metadata": {},
   "outputs": [
    {
     "data": {
      "text/latex": [
       "\\[\n",
       "\\begin{aligned}\n",
       "a &= 5\\;\n",
       "\\\\[10pt]\n",
       "b &= 16\\;\n",
       "\\\\[10pt]\n",
       "c &= 10\\;\n",
       "\\\\[10pt]\n",
       "x_{1} &= \\frac{ - b + \\sqrt{ \\left( \\left( \\left( b \\right) ^{ 2 } \\right) - 4 \\cdot a \\cdot c \\right) } }{ 2 } \\cdot a = \\frac{ - 16 + \\sqrt{ \\left( \\left( \\left( 16 \\right) ^{ 2 } \\right) - 4 \\cdot 5 \\cdot 10 \\right) } }{ 2 } \\cdot 5 &= -21.292\n",
       "\\\\[10pt]\n",
       "x_{2} &= \\frac{ - b - \\sqrt{ \\left( \\left( \\left( b \\right) ^{ 2 } \\right) - 4 \\cdot a \\cdot c \\right) } }{ 2 } \\cdot a = \\frac{ - 16 - \\sqrt{ \\left( \\left( \\left( 16 \\right) ^{ 2 } \\right) - 4 \\cdot 5 \\cdot 10 \\right) } }{ 2 } \\cdot 5 &= -58.708\n",
       "\\end{aligned}\n",
       "\\]"
      ],
      "text/plain": [
       "<IPython.core.display.Latex object>"
      ]
     },
     "metadata": {},
     "output_type": "display_data"
    }
   ],
   "source": [
    "%%render\n",
    "a = 5\n",
    "b = 16\n",
    "c = 10\n",
    "x_1 = (-b + sqrt((b**2) -4*a*c))/ 2*a\n",
    "x_2 = (-b - sqrt((b**2) -4*a*c))/ 2*a"
   ]
  },
  {
   "cell_type": "code",
   "execution_count": 20,
   "metadata": {},
   "outputs": [
    {
     "name": "stdout",
     "output_type": "stream",
     "text": [
      "Enter the coefficient of x^25\n",
      "Enter the coefficient of x16\n",
      "Enter the constant term3\n",
      "The first root is -21.291713066130296 and second root is -58.7082869338697\n"
     ]
    }
   ],
   "source": [
    "def quadratic_solution(a,b,c):\n",
    "    x_1 = (-b + sqrt((b**2) -4*a*c))/ 2*a\n",
    "    x_2 = (-b - sqrt((b**2) -4*a*c))/ 2*a\n",
    "    return x_1,x_2\n",
    "\n",
    "a = int(input(\"Enter the coefficient of x^2\"))\n",
    "b = int(input(\"Enter the coefficient of x\"))\n",
    "c = int(input(\"Enter the constant term\"))\n",
    "\n",
    "print(f\"The first root is {x_1} and second root is {x_2}\")\n",
    "\n",
    "\n",
    "    "
   ]
  },
  {
   "cell_type": "markdown",
   "metadata": {},
   "source": [
    "# Write a Python program to swap two variables without temp variable"
   ]
  },
  {
   "cell_type": "code",
   "execution_count": 21,
   "metadata": {},
   "outputs": [
    {
     "name": "stdout",
     "output_type": "stream",
     "text": [
      "The value of a now is 20 and value of b now is 10\n"
     ]
    }
   ],
   "source": [
    "a = 10\n",
    "b = 20\n",
    "a,b = b,a\n",
    "\n",
    "print(f\"The value of a now is {a} and value of b now is {b}\")"
   ]
  },
  {
   "cell_type": "code",
   "execution_count": null,
   "metadata": {},
   "outputs": [],
   "source": []
  }
 ],
 "metadata": {
  "kernelspec": {
   "display_name": "Python 3",
   "language": "python",
   "name": "python3"
  },
  "language_info": {
   "codemirror_mode": {
    "name": "ipython",
    "version": 3
   },
   "file_extension": ".py",
   "mimetype": "text/x-python",
   "name": "python",
   "nbconvert_exporter": "python",
   "pygments_lexer": "ipython3",
   "version": "3.7.3"
  }
 },
 "nbformat": 4,
 "nbformat_minor": 2
}
