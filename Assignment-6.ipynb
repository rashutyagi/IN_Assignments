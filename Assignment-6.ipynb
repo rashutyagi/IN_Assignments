{
 "cells": [
  {
   "cell_type": "markdown",
   "metadata": {},
   "source": [
    "# Write a Python Program to Display Fibonacci Sequence Using Recursion?"
   ]
  },
  {
   "cell_type": "code",
   "execution_count": 1,
   "metadata": {},
   "outputs": [
    {
     "name": "stdout",
     "output_type": "stream",
     "text": [
      "Enter the first term0\n",
      "Enter the second term1\n",
      "Enter the number of terms you want10\n",
      "0\n",
      "1\n",
      "1\n",
      "2\n",
      "3\n",
      "5\n",
      "8\n",
      "13\n",
      "21\n",
      "34\n"
     ]
    }
   ],
   "source": [
    "def give_fibonacci(first_term,second_term,number_of_terms):\n",
    "    for i in range(number_of_terms-2):\n",
    "        c = first_term + second_term\n",
    "        first_term = second_term\n",
    "        second_term = c\n",
    "        print(c)\n",
    "\n",
    "first_term = int(input(\"Enter the first term\"))\n",
    "second_term = int(input(\"Enter the second term\"))\n",
    "number_of_terms = int(input(\"Enter the number of terms you want\"))\n",
    "print(first_term)\n",
    "print(second_term)\n",
    "give_fibonacci(first_term,second_term,number_of_terms)"
   ]
  },
  {
   "cell_type": "markdown",
   "metadata": {},
   "source": [
    "# Write a Python Program to Find Factorial of Number Using Recursion?"
   ]
  },
  {
   "cell_type": "code",
   "execution_count": 2,
   "metadata": {},
   "outputs": [
    {
     "name": "stdout",
     "output_type": "stream",
     "text": [
      "Enter the number whose factorial you want6\n",
      "The factorial of 6 is 720\n"
     ]
    }
   ],
   "source": [
    "def get_factorial(num):\n",
    "    if num == 0:\n",
    "        return 1\n",
    "    else:\n",
    "        return num*get_factorial(num-1)\n",
    "    \n",
    "num = int(input(\"Enter the number whose factorial you want\"))\n",
    "print(f\"The factorial of {num} is {get_factorial(num)}\")"
   ]
  },
  {
   "cell_type": "markdown",
   "metadata": {},
   "source": [
    "# Write a Python Program to calculate your Body Mass Index?"
   ]
  },
  {
   "cell_type": "code",
   "execution_count": 6,
   "metadata": {},
   "outputs": [
    {
     "name": "stdout",
     "output_type": "stream",
     "text": [
      "Enter the mass in kg90\n",
      "Enter the height in meter142\n",
      "The BMI for given mass 90 kg and given height 142 meter is 0.004463\n"
     ]
    }
   ],
   "source": [
    "# body mass index = mass in kg/(height in meter)^2\n",
    "\n",
    "def get_bmi(mass,height):\n",
    "    return (mass/(height)**2)\n",
    "\n",
    "mass = int(input(\"Enter the mass in kg\"))\n",
    "height = int(input(\"Enter the height in meter\"))\n",
    "print(f\"The BMI for given mass {mass} kg and given height {height} meter is {get_bmi(mass,height):.6f}\")"
   ]
  },
  {
   "cell_type": "markdown",
   "metadata": {},
   "source": [
    "# Write a Python Program to calculate the natural logarithm of any number?"
   ]
  },
  {
   "cell_type": "code",
   "execution_count": 8,
   "metadata": {},
   "outputs": [
    {
     "name": "stdout",
     "output_type": "stream",
     "text": [
      "Enter the number whose natural log you want8\n",
      "The natural logarithm of 8 is 2.07944\n"
     ]
    }
   ],
   "source": [
    "import math\n",
    "\n",
    "num = int(input(\"Enter the number whose natural log you want\"))\n",
    "\n",
    "print(f\"The natural logarithm of {num} is {math.log(num):.5f}\")"
   ]
  },
  {
   "cell_type": "markdown",
   "metadata": {},
   "source": [
    "# Write a Python Program for cube sum of first n natural numbers?"
   ]
  },
  {
   "cell_type": "code",
   "execution_count": 10,
   "metadata": {},
   "outputs": [
    {
     "name": "stdout",
     "output_type": "stream",
     "text": [
      "Enter the number upto which you want cube sum5\n",
      "Cube sum upto 5 is 225\n"
     ]
    }
   ],
   "source": [
    "def cube_sum(num):\n",
    "    return sum([x**3 for x in range(num+1)])\n",
    "   \n",
    "num = int(input(\"Enter the number upto which you want cube sum\"))\n",
    "print(f\"Cube sum upto {num} is {cube_sum(num)}\")"
   ]
  },
  {
   "cell_type": "code",
   "execution_count": null,
   "metadata": {},
   "outputs": [],
   "source": []
  }
 ],
 "metadata": {
  "kernelspec": {
   "display_name": "Python 3",
   "language": "python",
   "name": "python3"
  },
  "language_info": {
   "codemirror_mode": {
    "name": "ipython",
    "version": 3
   },
   "file_extension": ".py",
   "mimetype": "text/x-python",
   "name": "python",
   "nbconvert_exporter": "python",
   "pygments_lexer": "ipython3",
   "version": "3.7.3"
  }
 },
 "nbformat": 4,
 "nbformat_minor": 2
}
